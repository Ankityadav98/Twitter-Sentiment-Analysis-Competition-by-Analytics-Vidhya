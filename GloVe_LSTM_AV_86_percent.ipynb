{
  "nbformat": 4,
  "nbformat_minor": 0,
  "metadata": {
    "colab": {
      "name": "GloVe_LSTM_AV_0.8851.ipynb",
      "provenance": [],
      "collapsed_sections": [],
      "authorship_tag": "ABX9TyOGXzGT+XFD4I3QeZOaCVXe",
      "include_colab_link": true
    },
    "kernelspec": {
      "name": "python3",
      "display_name": "Python 3"
    },
    "accelerator": "GPU"
  },
  "cells": [
    {
      "cell_type": "markdown",
      "metadata": {
        "id": "view-in-github",
        "colab_type": "text"
      },
      "source": [
        "<a href=\"https://colab.research.google.com/github/Ankityadav98/Twitter-Sentiment-Analysis-Competition-by-Analytics-Vidhya/blob/master/GloVe_LSTM_AV_86_percent.ipynb\" target=\"_parent\"><img src=\"https://colab.research.google.com/assets/colab-badge.svg\" alt=\"Open In Colab\"/></a>"
      ]
    },
    {
      "cell_type": "code",
      "metadata": {
        "id": "HnQd6Is4MtQm",
        "colab_type": "code",
        "colab": {
          "base_uri": "https://localhost:8080/",
          "height": 121
        },
        "outputId": "a0b99408-0007-499f-e829-b722c92144de"
      },
      "source": [
        "from google.colab import drive\n",
        "drive.mount('/content/gdrive')"
      ],
      "execution_count": 1,
      "outputs": [
        {
          "output_type": "stream",
          "text": [
            "Go to this URL in a browser: https://accounts.google.com/o/oauth2/auth?client_id=947318989803-6bn6qk8qdgf4n4g3pfee6491hc0brc4i.apps.googleusercontent.com&redirect_uri=urn%3aietf%3awg%3aoauth%3a2.0%3aoob&response_type=code&scope=email%20https%3a%2f%2fwww.googleapis.com%2fauth%2fdocs.test%20https%3a%2f%2fwww.googleapis.com%2fauth%2fdrive%20https%3a%2f%2fwww.googleapis.com%2fauth%2fdrive.photos.readonly%20https%3a%2f%2fwww.googleapis.com%2fauth%2fpeopleapi.readonly\n",
            "\n",
            "Enter your authorization code:\n",
            "··········\n",
            "Mounted at /content/gdrive\n"
          ],
          "name": "stdout"
        }
      ]
    },
    {
      "cell_type": "code",
      "metadata": {
        "id": "jzfZR44FNQ6X",
        "colab_type": "code",
        "colab": {
          "base_uri": "https://localhost:8080/",
          "height": 34
        },
        "outputId": "8de7555f-7dc3-4387-c672-bb1f969c142d"
      },
      "source": [
        "cd '/content/gdrive/My Drive/ML/Sentiment analysis dataset'"
      ],
      "execution_count": 2,
      "outputs": [
        {
          "output_type": "stream",
          "text": [
            "/content/gdrive/My Drive/ML/Sentiment analysis dataset\n"
          ],
          "name": "stdout"
        }
      ]
    },
    {
      "cell_type": "code",
      "metadata": {
        "id": "FTdOmk-rOXk_",
        "colab_type": "code",
        "colab": {
          "base_uri": "https://localhost:8080/",
          "height": 70
        },
        "outputId": "30378a3a-3207-491d-8d8f-dce869069499"
      },
      "source": [
        "import pandas as pd\n",
        "import numpy as np\n",
        "import seaborn as sns\n",
        "import matplotlib.pyplot as plt\n",
        "import tensorflow as tf\n",
        "%matplotlib inline"
      ],
      "execution_count": 3,
      "outputs": [
        {
          "output_type": "stream",
          "text": [
            "/usr/local/lib/python3.6/dist-packages/statsmodels/tools/_testing.py:19: FutureWarning: pandas.util.testing is deprecated. Use the functions in the public API at pandas.testing instead.\n",
            "  import pandas.util.testing as tm\n"
          ],
          "name": "stderr"
        }
      ]
    },
    {
      "cell_type": "code",
      "metadata": {
        "id": "Sd3egsS4Nhm6",
        "colab_type": "code",
        "colab": {}
      },
      "source": [
        "train= pd.read_csv('train.csv')\n",
        "test= pd.read_csv('test.csv')"
      ],
      "execution_count": 4,
      "outputs": []
    },
    {
      "cell_type": "code",
      "metadata": {
        "id": "9_fqxiQlNsq2",
        "colab_type": "code",
        "colab": {
          "base_uri": "https://localhost:8080/",
          "height": 195
        },
        "outputId": "054737bd-63ca-4cbd-d303-aece6c4ca486"
      },
      "source": [
        "train.head()"
      ],
      "execution_count": 5,
      "outputs": [
        {
          "output_type": "execute_result",
          "data": {
            "text/html": [
              "<div>\n",
              "<style scoped>\n",
              "    .dataframe tbody tr th:only-of-type {\n",
              "        vertical-align: middle;\n",
              "    }\n",
              "\n",
              "    .dataframe tbody tr th {\n",
              "        vertical-align: top;\n",
              "    }\n",
              "\n",
              "    .dataframe thead th {\n",
              "        text-align: right;\n",
              "    }\n",
              "</style>\n",
              "<table border=\"1\" class=\"dataframe\">\n",
              "  <thead>\n",
              "    <tr style=\"text-align: right;\">\n",
              "      <th></th>\n",
              "      <th>id</th>\n",
              "      <th>label</th>\n",
              "      <th>tweet</th>\n",
              "    </tr>\n",
              "  </thead>\n",
              "  <tbody>\n",
              "    <tr>\n",
              "      <th>0</th>\n",
              "      <td>1</td>\n",
              "      <td>0</td>\n",
              "      <td>#fingerprint #Pregnancy Test https://goo.gl/h1...</td>\n",
              "    </tr>\n",
              "    <tr>\n",
              "      <th>1</th>\n",
              "      <td>2</td>\n",
              "      <td>0</td>\n",
              "      <td>Finally a transparant silicon case ^^ Thanks t...</td>\n",
              "    </tr>\n",
              "    <tr>\n",
              "      <th>2</th>\n",
              "      <td>3</td>\n",
              "      <td>0</td>\n",
              "      <td>We love this! Would you go? #talk #makememorie...</td>\n",
              "    </tr>\n",
              "    <tr>\n",
              "      <th>3</th>\n",
              "      <td>4</td>\n",
              "      <td>0</td>\n",
              "      <td>I'm wired I know I'm George I was made that wa...</td>\n",
              "    </tr>\n",
              "    <tr>\n",
              "      <th>4</th>\n",
              "      <td>5</td>\n",
              "      <td>1</td>\n",
              "      <td>What amazing service! Apple won't even talk to...</td>\n",
              "    </tr>\n",
              "  </tbody>\n",
              "</table>\n",
              "</div>"
            ],
            "text/plain": [
              "   id  label                                              tweet\n",
              "0   1      0  #fingerprint #Pregnancy Test https://goo.gl/h1...\n",
              "1   2      0  Finally a transparant silicon case ^^ Thanks t...\n",
              "2   3      0  We love this! Would you go? #talk #makememorie...\n",
              "3   4      0  I'm wired I know I'm George I was made that wa...\n",
              "4   5      1  What amazing service! Apple won't even talk to..."
            ]
          },
          "metadata": {
            "tags": []
          },
          "execution_count": 5
        }
      ]
    },
    {
      "cell_type": "code",
      "metadata": {
        "id": "kYgPzTzdOwss",
        "colab_type": "code",
        "colab": {
          "base_uri": "https://localhost:8080/",
          "height": 67
        },
        "outputId": "ddaf24d0-a0e7-48a1-da5b-057d14c7df77"
      },
      "source": [
        "train['label'].value_counts()"
      ],
      "execution_count": 6,
      "outputs": [
        {
          "output_type": "execute_result",
          "data": {
            "text/plain": [
              "0    5894\n",
              "1    2026\n",
              "Name: label, dtype: int64"
            ]
          },
          "metadata": {
            "tags": []
          },
          "execution_count": 6
        }
      ]
    },
    {
      "cell_type": "code",
      "metadata": {
        "id": "y9nKMthkPCOP",
        "colab_type": "code",
        "colab": {
          "base_uri": "https://localhost:8080/",
          "height": 185
        },
        "outputId": "624ae587-ed07-44cd-f9da-c8ff3d792d49"
      },
      "source": [
        "train.info()"
      ],
      "execution_count": 7,
      "outputs": [
        {
          "output_type": "stream",
          "text": [
            "<class 'pandas.core.frame.DataFrame'>\n",
            "RangeIndex: 7920 entries, 0 to 7919\n",
            "Data columns (total 3 columns):\n",
            " #   Column  Non-Null Count  Dtype \n",
            "---  ------  --------------  ----- \n",
            " 0   id      7920 non-null   int64 \n",
            " 1   label   7920 non-null   int64 \n",
            " 2   tweet   7920 non-null   object\n",
            "dtypes: int64(2), object(1)\n",
            "memory usage: 185.8+ KB\n"
          ],
          "name": "stdout"
        }
      ]
    },
    {
      "cell_type": "code",
      "metadata": {
        "id": "QyySU_H2uAph",
        "colab_type": "code",
        "colab": {}
      },
      "source": [
        "df= pd.concat([train,test],axis=0)"
      ],
      "execution_count": 8,
      "outputs": []
    },
    {
      "cell_type": "code",
      "metadata": {
        "id": "CXrc9mDtuYf0",
        "colab_type": "code",
        "colab": {
          "base_uri": "https://localhost:8080/",
          "height": 185
        },
        "outputId": "d4c9a3d6-292d-4242-c457-736c280cd003"
      },
      "source": [
        "df.info()"
      ],
      "execution_count": 9,
      "outputs": [
        {
          "output_type": "stream",
          "text": [
            "<class 'pandas.core.frame.DataFrame'>\n",
            "Int64Index: 9873 entries, 0 to 1952\n",
            "Data columns (total 3 columns):\n",
            " #   Column  Non-Null Count  Dtype  \n",
            "---  ------  --------------  -----  \n",
            " 0   id      9873 non-null   int64  \n",
            " 1   label   7920 non-null   float64\n",
            " 2   tweet   9873 non-null   object \n",
            "dtypes: float64(1), int64(1), object(1)\n",
            "memory usage: 308.5+ KB\n"
          ],
          "name": "stdout"
        }
      ]
    },
    {
      "cell_type": "code",
      "metadata": {
        "id": "UK1zBqPvhxgv",
        "colab_type": "code",
        "colab": {}
      },
      "source": [
        "#!pip install -U spacy"
      ],
      "execution_count": 10,
      "outputs": []
    },
    {
      "cell_type": "code",
      "metadata": {
        "id": "ZkSzBvtahZKk",
        "colab_type": "code",
        "colab": {}
      },
      "source": [
        "#!python -m spacy download en"
      ],
      "execution_count": 11,
      "outputs": []
    },
    {
      "cell_type": "code",
      "metadata": {
        "id": "mY-wggc1ZBV5",
        "colab_type": "code",
        "colab": {
          "base_uri": "https://localhost:8080/",
          "height": 50
        },
        "outputId": "8231e23e-6bf0-436a-90ac-badd3d1151d7"
      },
      "source": [
        "import nltk\n",
        "nltk.download('punkt')\n",
        "from nltk.tokenize import word_tokenize\n",
        "import string\n",
        "import re\n",
        "import spacy\n",
        "sp = spacy.load('en_core_web_sm')"
      ],
      "execution_count": 12,
      "outputs": [
        {
          "output_type": "stream",
          "text": [
            "[nltk_data] Downloading package punkt to /root/nltk_data...\n",
            "[nltk_data]   Unzipping tokenizers/punkt.zip.\n"
          ],
          "name": "stdout"
        }
      ]
    },
    {
      "cell_type": "code",
      "metadata": {
        "id": "JhNgAvG0Wpm6",
        "colab_type": "code",
        "colab": {}
      },
      "source": [
        "def clean_data(text):\n",
        "  #remove emails\n",
        "  text = ' '.join([i for i in text.split() if '@' not in i])\n",
        "    \n",
        "  #remove web address\n",
        "  text = re.sub('http[s]?://\\S+', '', text)\n",
        "    \n",
        "  #Filter to allow only alphabets\n",
        "  text = re.sub(r'[^a-zA-Z\\']', ' ', text)\n",
        "    \n",
        "  #Remove Unicode characters\n",
        "  text = re.sub(r'[^\\x00-\\x7F]+', '', text)\n",
        "    \n",
        "  #Convert to lowercase to maintain consistency\n",
        "  text = text.lower()\n",
        "    \n",
        "  #Remove stopwords\n",
        "  all_stopwords = sp.Defaults.stop_words\n",
        "  text_tokens = word_tokenize(text)\n",
        "  tokens_without_sw= [word for word in text_tokens if not word in all_stopwords]\n",
        "  text=' '.join(tokens_without_sw)\n",
        "  \n",
        "  #remove double spaces \n",
        "  text = re.sub('\\s+', ' ',text)\n",
        "  return (text)"
      ],
      "execution_count": 13,
      "outputs": []
    },
    {
      "cell_type": "code",
      "metadata": {
        "id": "3WoWYu--YOK2",
        "colab_type": "code",
        "colab": {}
      },
      "source": [
        "df['clean_tweet']= df['tweet'].apply(clean_data)"
      ],
      "execution_count": 14,
      "outputs": []
    },
    {
      "cell_type": "code",
      "metadata": {
        "id": "P4O8wIilY4hl",
        "colab_type": "code",
        "colab": {
          "base_uri": "https://localhost:8080/",
          "height": 195
        },
        "outputId": "130a028b-bfd8-4be7-8e35-763dff673eb1"
      },
      "source": [
        "df.tail()"
      ],
      "execution_count": 15,
      "outputs": [
        {
          "output_type": "execute_result",
          "data": {
            "text/html": [
              "<div>\n",
              "<style scoped>\n",
              "    .dataframe tbody tr th:only-of-type {\n",
              "        vertical-align: middle;\n",
              "    }\n",
              "\n",
              "    .dataframe tbody tr th {\n",
              "        vertical-align: top;\n",
              "    }\n",
              "\n",
              "    .dataframe thead th {\n",
              "        text-align: right;\n",
              "    }\n",
              "</style>\n",
              "<table border=\"1\" class=\"dataframe\">\n",
              "  <thead>\n",
              "    <tr style=\"text-align: right;\">\n",
              "      <th></th>\n",
              "      <th>id</th>\n",
              "      <th>label</th>\n",
              "      <th>tweet</th>\n",
              "      <th>clean_tweet</th>\n",
              "    </tr>\n",
              "  </thead>\n",
              "  <tbody>\n",
              "    <tr>\n",
              "      <th>1948</th>\n",
              "      <td>9869</td>\n",
              "      <td>NaN</td>\n",
              "      <td>#SamsungGalaxyNote7 Explodes, Burns 6-Year-Old...</td>\n",
              "      <td>samsunggalaxynote explodes burns year old than...</td>\n",
              "    </tr>\n",
              "    <tr>\n",
              "      <th>1949</th>\n",
              "      <td>9870</td>\n",
              "      <td>NaN</td>\n",
              "      <td>Now Available - Hoodie. Check it out here - ht...</td>\n",
              "      <td>available hoodie check iphone case music discount</td>\n",
              "    </tr>\n",
              "    <tr>\n",
              "      <th>1950</th>\n",
              "      <td>9871</td>\n",
              "      <td>NaN</td>\n",
              "      <td>There goes a crack right across the screen. If...</td>\n",
              "      <td>goes crack right screen actually provide durab...</td>\n",
              "    </tr>\n",
              "    <tr>\n",
              "      <th>1951</th>\n",
              "      <td>9872</td>\n",
              "      <td>NaN</td>\n",
              "      <td>@codeofinterest as i said #Adobe big time we m...</td>\n",
              "      <td>said adobe big time include apple</td>\n",
              "    </tr>\n",
              "    <tr>\n",
              "      <th>1952</th>\n",
              "      <td>9873</td>\n",
              "      <td>NaN</td>\n",
              "      <td>Finally I got it .. thanx my father .. #Samsun...</td>\n",
              "      <td>finally got thanx father samsung galaxy s gift...</td>\n",
              "    </tr>\n",
              "  </tbody>\n",
              "</table>\n",
              "</div>"
            ],
            "text/plain": [
              "        id  ...                                        clean_tweet\n",
              "1948  9869  ...  samsunggalaxynote explodes burns year old than...\n",
              "1949  9870  ...  available hoodie check iphone case music discount\n",
              "1950  9871  ...  goes crack right screen actually provide durab...\n",
              "1951  9872  ...                  said adobe big time include apple\n",
              "1952  9873  ...  finally got thanx father samsung galaxy s gift...\n",
              "\n",
              "[5 rows x 4 columns]"
            ]
          },
          "metadata": {
            "tags": []
          },
          "execution_count": 15
        }
      ]
    },
    {
      "cell_type": "code",
      "metadata": {
        "id": "Uf3De8Y9hPxc",
        "colab_type": "code",
        "colab": {}
      },
      "source": [
        "train_new= df[:7920].copy()\n",
        "test_new= df[7920:].copy()"
      ],
      "execution_count": 16,
      "outputs": []
    },
    {
      "cell_type": "code",
      "metadata": {
        "id": "DViVy8sgvJt8",
        "colab_type": "code",
        "colab": {
          "base_uri": "https://localhost:8080/",
          "height": 195
        },
        "outputId": "97f5a9d7-1748-4d47-dc62-6ad487b34b87"
      },
      "source": [
        "train_new.drop(columns=['id','tweet'],inplace=True)\n",
        "train_new['label']=train_new['label'].astype(int)\n",
        "train_new.head()"
      ],
      "execution_count": 17,
      "outputs": [
        {
          "output_type": "execute_result",
          "data": {
            "text/html": [
              "<div>\n",
              "<style scoped>\n",
              "    .dataframe tbody tr th:only-of-type {\n",
              "        vertical-align: middle;\n",
              "    }\n",
              "\n",
              "    .dataframe tbody tr th {\n",
              "        vertical-align: top;\n",
              "    }\n",
              "\n",
              "    .dataframe thead th {\n",
              "        text-align: right;\n",
              "    }\n",
              "</style>\n",
              "<table border=\"1\" class=\"dataframe\">\n",
              "  <thead>\n",
              "    <tr style=\"text-align: right;\">\n",
              "      <th></th>\n",
              "      <th>label</th>\n",
              "      <th>clean_tweet</th>\n",
              "    </tr>\n",
              "  </thead>\n",
              "  <tbody>\n",
              "    <tr>\n",
              "      <th>0</th>\n",
              "      <td>0</td>\n",
              "      <td>fingerprint pregnancy test android apps beauti...</td>\n",
              "    </tr>\n",
              "    <tr>\n",
              "      <th>1</th>\n",
              "      <td>0</td>\n",
              "      <td>finally transparant silicon case thanks uncle ...</td>\n",
              "    </tr>\n",
              "    <tr>\n",
              "      <th>2</th>\n",
              "      <td>0</td>\n",
              "      <td>love talk makememories unplug relax iphone sma...</td>\n",
              "    </tr>\n",
              "    <tr>\n",
              "      <th>3</th>\n",
              "      <td>0</td>\n",
              "      <td>wired know george way iphone cute daventry home</td>\n",
              "    </tr>\n",
              "    <tr>\n",
              "      <th>4</th>\n",
              "      <td>1</td>\n",
              "      <td>amazing service apple wo talk question pay stu...</td>\n",
              "    </tr>\n",
              "  </tbody>\n",
              "</table>\n",
              "</div>"
            ],
            "text/plain": [
              "   label                                        clean_tweet\n",
              "0      0  fingerprint pregnancy test android apps beauti...\n",
              "1      0  finally transparant silicon case thanks uncle ...\n",
              "2      0  love talk makememories unplug relax iphone sma...\n",
              "3      0    wired know george way iphone cute daventry home\n",
              "4      1  amazing service apple wo talk question pay stu..."
            ]
          },
          "metadata": {
            "tags": []
          },
          "execution_count": 17
        }
      ]
    },
    {
      "cell_type": "code",
      "metadata": {
        "id": "vd5aWplovmTj",
        "colab_type": "code",
        "colab": {
          "base_uri": "https://localhost:8080/",
          "height": 195
        },
        "outputId": "0976c2bf-7c09-4afd-e1b8-122a76353c26"
      },
      "source": [
        "test_new.drop(columns=['label','tweet'],inplace=True)\n",
        "test_new.head()"
      ],
      "execution_count": 18,
      "outputs": [
        {
          "output_type": "execute_result",
          "data": {
            "text/html": [
              "<div>\n",
              "<style scoped>\n",
              "    .dataframe tbody tr th:only-of-type {\n",
              "        vertical-align: middle;\n",
              "    }\n",
              "\n",
              "    .dataframe tbody tr th {\n",
              "        vertical-align: top;\n",
              "    }\n",
              "\n",
              "    .dataframe thead th {\n",
              "        text-align: right;\n",
              "    }\n",
              "</style>\n",
              "<table border=\"1\" class=\"dataframe\">\n",
              "  <thead>\n",
              "    <tr style=\"text-align: right;\">\n",
              "      <th></th>\n",
              "      <th>id</th>\n",
              "      <th>clean_tweet</th>\n",
              "    </tr>\n",
              "  </thead>\n",
              "  <tbody>\n",
              "    <tr>\n",
              "      <th>0</th>\n",
              "      <td>7921</td>\n",
              "      <td>hate new iphone upgrade wo let download apps u...</td>\n",
              "    </tr>\n",
              "    <tr>\n",
              "      <th>1</th>\n",
              "      <td>7922</td>\n",
              "      <td>currently shitting fucking pants apple imac ca...</td>\n",
              "    </tr>\n",
              "    <tr>\n",
              "      <th>2</th>\n",
              "      <td>7923</td>\n",
              "      <td>like puts cd roms ipad possible ' yes block sc...</td>\n",
              "    </tr>\n",
              "    <tr>\n",
              "      <th>3</th>\n",
              "      <td>7924</td>\n",
              "      <td>ipod officially dead lost pictures videos d so...</td>\n",
              "    </tr>\n",
              "    <tr>\n",
              "      <th>4</th>\n",
              "      <td>7925</td>\n",
              "      <td>fighting itunes night want music paid</td>\n",
              "    </tr>\n",
              "  </tbody>\n",
              "</table>\n",
              "</div>"
            ],
            "text/plain": [
              "     id                                        clean_tweet\n",
              "0  7921  hate new iphone upgrade wo let download apps u...\n",
              "1  7922  currently shitting fucking pants apple imac ca...\n",
              "2  7923  like puts cd roms ipad possible ' yes block sc...\n",
              "3  7924  ipod officially dead lost pictures videos d so...\n",
              "4  7925              fighting itunes night want music paid"
            ]
          },
          "metadata": {
            "tags": []
          },
          "execution_count": 18
        }
      ]
    },
    {
      "cell_type": "code",
      "metadata": {
        "id": "BTTSJxyDHgHF",
        "colab_type": "code",
        "colab": {}
      },
      "source": [
        "train_new= train_new.reindex(np.random.permutation(train_new.index))\n",
        "train_new= train_new.reset_index(drop=True)"
      ],
      "execution_count": 19,
      "outputs": []
    },
    {
      "cell_type": "code",
      "metadata": {
        "id": "cPoAKb-xzEBT",
        "colab_type": "code",
        "colab": {}
      },
      "source": [
        "corpus=[]\n",
        "labels=[]\n",
        "for i in range(len(train_new)):\n",
        "  corpus.append(train_new['clean_tweet'][i])\n",
        "  labels.append(train_new['label'][i])"
      ],
      "execution_count": 20,
      "outputs": []
    },
    {
      "cell_type": "code",
      "metadata": {
        "id": "cGKGApMBz0w_",
        "colab_type": "code",
        "colab": {}
      },
      "source": [
        "test_portion=0.2\n",
        "split=int(test_portion*len(train_new))"
      ],
      "execution_count": 21,
      "outputs": []
    },
    {
      "cell_type": "code",
      "metadata": {
        "id": "9AiS4pWe29ny",
        "colab_type": "code",
        "colab": {}
      },
      "source": [
        "from tensorflow.keras import Sequential\n",
        "from tensorflow.keras.preprocessing.text import Tokenizer\n",
        "from tensorflow.keras.preprocessing.sequence import pad_sequences\n",
        "from tensorflow.keras.layers import Embedding, Bidirectional, LSTM, Dense, Dropout"
      ],
      "execution_count": 22,
      "outputs": []
    },
    {
      "cell_type": "code",
      "metadata": {
        "id": "gCBbxBE73_5Y",
        "colab_type": "code",
        "colab": {}
      },
      "source": [
        "oov_token='<OOV>'\n",
        "pad_type='post'\n",
        "trunc_type='post'\n",
        "embedding_dim=100\n",
        "max_length= 120 #max([len(x) for x in corpus])"
      ],
      "execution_count": 23,
      "outputs": []
    },
    {
      "cell_type": "code",
      "metadata": {
        "id": "xFClAwJf5SS2",
        "colab_type": "code",
        "colab": {
          "base_uri": "https://localhost:8080/",
          "height": 34
        },
        "outputId": "66d8af1d-3b84-4623-b981-22a2fd632a43"
      },
      "source": [
        "tokenizer= Tokenizer(oov_token=oov_token)\n",
        "tokenizer.fit_on_texts(corpus)\n",
        "word_index= tokenizer.word_index\n",
        "vocab_size= len(word_index)\n",
        "print(vocab_size)\n",
        "\n",
        "sequences= tokenizer.texts_to_sequences(corpus)\n",
        "padded= pad_sequences(sequences,maxlen=max_length,padding=pad_type,truncating=trunc_type)\n",
        "\n",
        "val_sequences = padded[0:split]\n",
        "train_sequences = padded[split:]\n",
        "val_labels = labels[0:split]\n",
        "train_labels = labels[split:]"
      ],
      "execution_count": 24,
      "outputs": [
        {
          "output_type": "stream",
          "text": [
            "16487\n"
          ],
          "name": "stdout"
        }
      ]
    },
    {
      "cell_type": "code",
      "metadata": {
        "id": "bSxCMd8VEYxF",
        "colab_type": "code",
        "colab": {}
      },
      "source": [
        "embeddings_index = {};\n",
        "with open('/content/gdrive/My Drive/ML/GloVe/glove.6B.100d.txt') as f:\n",
        "    for line in f:\n",
        "        values = line.split();\n",
        "        word = values[0];\n",
        "        coefs = np.asarray(values[1:], dtype='float32');\n",
        "        embeddings_index[word] = coefs;\n",
        "\n",
        "embeddings_matrix = np.zeros((vocab_size+1, embedding_dim));\n",
        "for word, i in word_index.items():\n",
        "    embedding_vector = embeddings_index.get(word);\n",
        "    if embedding_vector is not None:\n",
        "        embeddings_matrix[i] = embedding_vector;"
      ],
      "execution_count": 25,
      "outputs": []
    },
    {
      "cell_type": "code",
      "metadata": {
        "id": "F474HwB55UE2",
        "colab_type": "code",
        "colab": {
          "base_uri": "https://localhost:8080/",
          "height": 319
        },
        "outputId": "275bee3e-b2c1-4511-ad5a-10d2686112b6"
      },
      "source": [
        "model = Sequential()\n",
        "model.add(Embedding(vocab_size+1,embedding_dim,input_length=max_length,weights=[embeddings_matrix], trainable=False))\n",
        "model.add(Dropout(0.4))\n",
        "model.add(Bidirectional(LSTM(16)))\n",
        "model.add(Dense(16, activation='relu'))\n",
        "model.add(Dense(1,activation='sigmoid'))\n",
        "model.compile(loss='binary_crossentropy',optimizer='adam',metrics=['accuracy'])\n",
        "model.summary()"
      ],
      "execution_count": 26,
      "outputs": [
        {
          "output_type": "stream",
          "text": [
            "Model: \"sequential\"\n",
            "_________________________________________________________________\n",
            "Layer (type)                 Output Shape              Param #   \n",
            "=================================================================\n",
            "embedding (Embedding)        (None, 120, 100)          1648800   \n",
            "_________________________________________________________________\n",
            "dropout (Dropout)            (None, 120, 100)          0         \n",
            "_________________________________________________________________\n",
            "bidirectional (Bidirectional (None, 32)                14976     \n",
            "_________________________________________________________________\n",
            "dense (Dense)                (None, 16)                528       \n",
            "_________________________________________________________________\n",
            "dense_1 (Dense)              (None, 1)                 17        \n",
            "=================================================================\n",
            "Total params: 1,664,321\n",
            "Trainable params: 15,521\n",
            "Non-trainable params: 1,648,800\n",
            "_________________________________________________________________\n"
          ],
          "name": "stdout"
        }
      ]
    },
    {
      "cell_type": "code",
      "metadata": {
        "id": "T4N2umD99Haw",
        "colab_type": "code",
        "colab": {}
      },
      "source": [
        "num_epochs = 20\n",
        "training_padded= np.array(train_sequences)\n",
        "training_labels= np.array(train_labels)\n",
        "val_padded=  np.array(val_sequences)\n",
        "val_labels= np.array(val_labels)"
      ],
      "execution_count": 27,
      "outputs": []
    },
    {
      "cell_type": "code",
      "metadata": {
        "id": "O_mZkc7e9cbc",
        "colab_type": "code",
        "colab": {
          "base_uri": "https://localhost:8080/",
          "height": 689
        },
        "outputId": "f1c3af51-acff-4730-83f2-2c3784d38237"
      },
      "source": [
        "history = model.fit(training_padded,training_labels, epochs=num_epochs, validation_data=(val_padded,val_labels), verbose=1)"
      ],
      "execution_count": 28,
      "outputs": [
        {
          "output_type": "stream",
          "text": [
            "Epoch 1/20\n",
            "198/198 [==============================] - 12s 59ms/step - loss: 0.4641 - accuracy: 0.7771 - val_loss: 0.3048 - val_accuracy: 0.8655\n",
            "Epoch 2/20\n",
            "198/198 [==============================] - 11s 55ms/step - loss: 0.3264 - accuracy: 0.8537 - val_loss: 0.2876 - val_accuracy: 0.8712\n",
            "Epoch 3/20\n",
            "198/198 [==============================] - 11s 55ms/step - loss: 0.3061 - accuracy: 0.8641 - val_loss: 0.2790 - val_accuracy: 0.8750\n",
            "Epoch 4/20\n",
            "198/198 [==============================] - 11s 55ms/step - loss: 0.2955 - accuracy: 0.8709 - val_loss: 0.2770 - val_accuracy: 0.8769\n",
            "Epoch 5/20\n",
            "198/198 [==============================] - 11s 55ms/step - loss: 0.2844 - accuracy: 0.8774 - val_loss: 0.2740 - val_accuracy: 0.8769\n",
            "Epoch 6/20\n",
            "198/198 [==============================] - 11s 55ms/step - loss: 0.2823 - accuracy: 0.8747 - val_loss: 0.2658 - val_accuracy: 0.8750\n",
            "Epoch 7/20\n",
            "198/198 [==============================] - 11s 55ms/step - loss: 0.2733 - accuracy: 0.8764 - val_loss: 0.2656 - val_accuracy: 0.8769\n",
            "Epoch 8/20\n",
            "198/198 [==============================] - 11s 55ms/step - loss: 0.2648 - accuracy: 0.8845 - val_loss: 0.2623 - val_accuracy: 0.8769\n",
            "Epoch 9/20\n",
            "198/198 [==============================] - 11s 55ms/step - loss: 0.2652 - accuracy: 0.8849 - val_loss: 0.2707 - val_accuracy: 0.8737\n",
            "Epoch 10/20\n",
            "198/198 [==============================] - 11s 55ms/step - loss: 0.2634 - accuracy: 0.8812 - val_loss: 0.2663 - val_accuracy: 0.8826\n",
            "Epoch 11/20\n",
            "198/198 [==============================] - 11s 55ms/step - loss: 0.2549 - accuracy: 0.8865 - val_loss: 0.2674 - val_accuracy: 0.8775\n",
            "Epoch 12/20\n",
            "198/198 [==============================] - 11s 55ms/step - loss: 0.2514 - accuracy: 0.8895 - val_loss: 0.2614 - val_accuracy: 0.8769\n",
            "Epoch 13/20\n",
            "198/198 [==============================] - 11s 55ms/step - loss: 0.2554 - accuracy: 0.8892 - val_loss: 0.2590 - val_accuracy: 0.8801\n",
            "Epoch 14/20\n",
            "198/198 [==============================] - 11s 55ms/step - loss: 0.2438 - accuracy: 0.8933 - val_loss: 0.2534 - val_accuracy: 0.8857\n",
            "Epoch 15/20\n",
            "198/198 [==============================] - 11s 55ms/step - loss: 0.2407 - accuracy: 0.8958 - val_loss: 0.2621 - val_accuracy: 0.8794\n",
            "Epoch 16/20\n",
            "198/198 [==============================] - 11s 56ms/step - loss: 0.2444 - accuracy: 0.8916 - val_loss: 0.2531 - val_accuracy: 0.8864\n",
            "Epoch 17/20\n",
            "198/198 [==============================] - 11s 55ms/step - loss: 0.2332 - accuracy: 0.8936 - val_loss: 0.2578 - val_accuracy: 0.8838\n",
            "Epoch 18/20\n",
            "198/198 [==============================] - 11s 55ms/step - loss: 0.2312 - accuracy: 0.8998 - val_loss: 0.2567 - val_accuracy: 0.8908\n",
            "Epoch 19/20\n",
            "198/198 [==============================] - 11s 55ms/step - loss: 0.2385 - accuracy: 0.8963 - val_loss: 0.2564 - val_accuracy: 0.8832\n",
            "Epoch 20/20\n",
            "198/198 [==============================] - 11s 55ms/step - loss: 0.2282 - accuracy: 0.9023 - val_loss: 0.2608 - val_accuracy: 0.8851\n"
          ],
          "name": "stdout"
        }
      ]
    },
    {
      "cell_type": "code",
      "metadata": {
        "id": "9OlVdNxG9ojX",
        "colab_type": "code",
        "colab": {
          "base_uri": "https://localhost:8080/",
          "height": 541
        },
        "outputId": "f49bd582-49dd-4c04-babf-6cf50ea8e5e8"
      },
      "source": [
        "import matplotlib.pyplot as plt\n",
        "\n",
        "def plot_graphs(history, string):\n",
        "  plt.plot(history.history[string])\n",
        "  plt.plot(history.history['val_'+string])\n",
        "  plt.xlabel(\"Epochs\")\n",
        "  plt.ylabel(string)\n",
        "  plt.legend([string, 'val_'+string])\n",
        "  plt.show()\n",
        "\n",
        "plot_graphs(history, 'accuracy')\n",
        "plot_graphs(history, 'loss')"
      ],
      "execution_count": 30,
      "outputs": [
        {
          "output_type": "display_data",
          "data": {
            "image/png": "[encoded data removed]",
            "text/plain": [
              "<Figure size 432x288 with 1 Axes>"
            ]
          },
          "metadata": {
            "tags": [],
            "needs_background": "light"
          }
        },
        {
          "output_type": "display_data",
          "data": {
            "image/png": "[encoded data removed]",
            "text/plain": [
              "<Figure size 432x288 with 1 Axes>"
            ]
          },
          "metadata": {
            "tags": [],
            "needs_background": "light"
          }
        }
      ]
    },
    {
      "cell_type": "code",
      "metadata": {
        "id": "AywiVfAmC2pK",
        "colab_type": "code",
        "colab": {}
      },
      "source": [
        "test_corpus=[]\n",
        "for i in range(len(test_new)):\n",
        "  test_corpus.append(test_new['clean_tweet'][i])\n",
        "\n",
        "test_sequences= tokenizer.texts_to_sequences(test_corpus)\n",
        "test_padded= pad_sequences(test_sequences,maxlen=max_length,padding=pad_type,truncating=trunc_type)\n",
        "\n",
        "test_padded= np.array(test_padded)"
      ],
      "execution_count": 31,
      "outputs": []
    },
    {
      "cell_type": "code",
      "metadata": {
        "id": "VvBVY_83PhZ7",
        "colab_type": "code",
        "colab": {}
      },
      "source": [
        "predictions= (model.predict(test_padded)>0.5).astype(int)"
      ],
      "execution_count": 49,
      "outputs": []
    },
    {
      "cell_type": "code",
      "metadata": {
        "id": "UC5rmmWaPpUt",
        "colab_type": "code",
        "colab": {}
      },
      "source": [
        "file= pd.read_csv('sample_submission.csv')"
      ],
      "execution_count": 50,
      "outputs": []
    },
    {
      "cell_type": "code",
      "metadata": {
        "id": "51Z8HKvhRk-H",
        "colab_type": "code",
        "colab": {
          "base_uri": "https://localhost:8080/",
          "height": 195
        },
        "outputId": "a33f32b4-2144-40c9-9e0c-cfcf5295d756"
      },
      "source": [
        "file.head()"
      ],
      "execution_count": 51,
      "outputs": [
        {
          "output_type": "execute_result",
          "data": {
            "text/html": [
              "<div>\n",
              "<style scoped>\n",
              "    .dataframe tbody tr th:only-of-type {\n",
              "        vertical-align: middle;\n",
              "    }\n",
              "\n",
              "    .dataframe tbody tr th {\n",
              "        vertical-align: top;\n",
              "    }\n",
              "\n",
              "    .dataframe thead th {\n",
              "        text-align: right;\n",
              "    }\n",
              "</style>\n",
              "<table border=\"1\" class=\"dataframe\">\n",
              "  <thead>\n",
              "    <tr style=\"text-align: right;\">\n",
              "      <th></th>\n",
              "      <th>id</th>\n",
              "      <th>label</th>\n",
              "    </tr>\n",
              "  </thead>\n",
              "  <tbody>\n",
              "    <tr>\n",
              "      <th>0</th>\n",
              "      <td>7921</td>\n",
              "      <td>0</td>\n",
              "    </tr>\n",
              "    <tr>\n",
              "      <th>1</th>\n",
              "      <td>7922</td>\n",
              "      <td>0</td>\n",
              "    </tr>\n",
              "    <tr>\n",
              "      <th>2</th>\n",
              "      <td>7923</td>\n",
              "      <td>0</td>\n",
              "    </tr>\n",
              "    <tr>\n",
              "      <th>3</th>\n",
              "      <td>7924</td>\n",
              "      <td>0</td>\n",
              "    </tr>\n",
              "    <tr>\n",
              "      <th>4</th>\n",
              "      <td>7925</td>\n",
              "      <td>0</td>\n",
              "    </tr>\n",
              "  </tbody>\n",
              "</table>\n",
              "</div>"
            ],
            "text/plain": [
              "     id  label\n",
              "0  7921      0\n",
              "1  7922      0\n",
              "2  7923      0\n",
              "3  7924      0\n",
              "4  7925      0"
            ]
          },
          "metadata": {
            "tags": []
          },
          "execution_count": 51
        }
      ]
    },
    {
      "cell_type": "code",
      "metadata": {
        "id": "mojjcJcbP9Ra",
        "colab_type": "code",
        "colab": {}
      },
      "source": [
        "file['label']= (predictions>0.5).astype(int)"
      ],
      "execution_count": 54,
      "outputs": []
    },
    {
      "cell_type": "code",
      "metadata": {
        "id": "swxfKQI1QTpU",
        "colab_type": "code",
        "colab": {
          "base_uri": "https://localhost:8080/",
          "height": 195
        },
        "outputId": "93dc494a-10d6-467b-d25e-7aba53c3732a"
      },
      "source": [
        "file.head()"
      ],
      "execution_count": 55,
      "outputs": [
        {
          "output_type": "execute_result",
          "data": {
            "text/html": [
              "<div>\n",
              "<style scoped>\n",
              "    .dataframe tbody tr th:only-of-type {\n",
              "        vertical-align: middle;\n",
              "    }\n",
              "\n",
              "    .dataframe tbody tr th {\n",
              "        vertical-align: top;\n",
              "    }\n",
              "\n",
              "    .dataframe thead th {\n",
              "        text-align: right;\n",
              "    }\n",
              "</style>\n",
              "<table border=\"1\" class=\"dataframe\">\n",
              "  <thead>\n",
              "    <tr style=\"text-align: right;\">\n",
              "      <th></th>\n",
              "      <th>id</th>\n",
              "      <th>label</th>\n",
              "    </tr>\n",
              "  </thead>\n",
              "  <tbody>\n",
              "    <tr>\n",
              "      <th>0</th>\n",
              "      <td>7921</td>\n",
              "      <td>1</td>\n",
              "    </tr>\n",
              "    <tr>\n",
              "      <th>1</th>\n",
              "      <td>7922</td>\n",
              "      <td>1</td>\n",
              "    </tr>\n",
              "    <tr>\n",
              "      <th>2</th>\n",
              "      <td>7923</td>\n",
              "      <td>1</td>\n",
              "    </tr>\n",
              "    <tr>\n",
              "      <th>3</th>\n",
              "      <td>7924</td>\n",
              "      <td>0</td>\n",
              "    </tr>\n",
              "    <tr>\n",
              "      <th>4</th>\n",
              "      <td>7925</td>\n",
              "      <td>1</td>\n",
              "    </tr>\n",
              "  </tbody>\n",
              "</table>\n",
              "</div>"
            ],
            "text/plain": [
              "     id  label\n",
              "0  7921      1\n",
              "1  7922      1\n",
              "2  7923      1\n",
              "3  7924      0\n",
              "4  7925      1"
            ]
          },
          "metadata": {
            "tags": []
          },
          "execution_count": 55
        }
      ]
    },
    {
      "cell_type": "code",
      "metadata": {
        "id": "sranTp2_R_5W",
        "colab_type": "code",
        "colab": {}
      },
      "source": [
        "file.to_csv('final_subm.csv',index=False,header=True)"
      ],
      "execution_count": 56,
      "outputs": []
    },
    {
      "cell_type": "code",
      "metadata": {
        "id": "dDM9slNeSYr0",
        "colab_type": "code",
        "colab": {}
      },
      "source": [
        ""
      ],
      "execution_count": null,
      "outputs": []
    }
  ]
}