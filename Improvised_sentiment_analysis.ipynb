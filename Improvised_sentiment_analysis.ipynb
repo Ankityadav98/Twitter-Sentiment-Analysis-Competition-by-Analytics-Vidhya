{
  "nbformat": 4,
  "nbformat_minor": 0,
  "metadata": {
    "colab": {
      "name": "Improvised_sentiment_analysis.ipynb",
      "provenance": [],
      "collapsed_sections": [],
      "authorship_tag": "ABX9TyMkvAm4N7ILtxHFk57rkhUv",
      "include_colab_link": true
    },
    "kernelspec": {
      "name": "python3",
      "display_name": "Python 3"
    },
    "accelerator": "GPU"
  },
  "cells": [
    {
      "cell_type": "markdown",
      "metadata": {
        "id": "view-in-github",
        "colab_type": "text"
      },
      "source": [
        "<a href=\"https://colab.research.google.com/github/Ankityadav98/Twitter-Sentiment-Analysis-Competition-by-Analytics-Vidhya/blob/master/Improvised_sentiment_analysis.ipynb\" target=\"_parent\"><img src=\"https://colab.research.google.com/assets/colab-badge.svg\" alt=\"Open In Colab\"/></a>"
      ]
    },
    {
      "cell_type": "code",
      "metadata": {
        "id": "HnQd6Is4MtQm",
        "colab_type": "code",
        "colab": {
          "base_uri": "https://localhost:8080/",
          "height": 34
        },
        "outputId": "ca73b4f4-4aca-4fbb-ab34-e84129d1412d"
      },
      "source": [
        "from google.colab import drive\n",
        "drive.mount('/content/gdrive')"
      ],
      "execution_count": null,
      "outputs": [
        {
          "output_type": "stream",
          "text": [
            "Drive already mounted at /content/gdrive; to attempt to forcibly remount, call drive.mount(\"/content/gdrive\", force_remount=True).\n"
          ],
          "name": "stdout"
        }
      ]
    },
    {
      "cell_type": "code",
      "metadata": {
        "id": "jzfZR44FNQ6X",
        "colab_type": "code",
        "colab": {
          "base_uri": "https://localhost:8080/",
          "height": 34
        },
        "outputId": "72fe20c1-1f6f-41f9-8374-788524910db5"
      },
      "source": [
        "cd '/content/gdrive/My Drive/ML/Sentiment analysis dataset'"
      ],
      "execution_count": null,
      "outputs": [
        {
          "output_type": "stream",
          "text": [
            "/content/gdrive/My Drive/ML/Sentiment analysis dataset\n"
          ],
          "name": "stdout"
        }
      ]
    },
    {
      "cell_type": "code",
      "metadata": {
        "id": "FTdOmk-rOXk_",
        "colab_type": "code",
        "colab": {
          "base_uri": "https://localhost:8080/",
          "height": 70
        },
        "outputId": "ac8654cf-44c6-408c-c993-a0b0d8aba13e"
      },
      "source": [
        "import pandas as pd\n",
        "import numpy as np\n",
        "import seaborn as sns\n",
        "import matplotlib.pyplot as plt\n",
        "import tensorflow as tf\n",
        "%matplotlib inline"
      ],
      "execution_count": null,
      "outputs": [
        {
          "output_type": "stream",
          "text": [
            "/usr/local/lib/python3.6/dist-packages/statsmodels/tools/_testing.py:19: FutureWarning: pandas.util.testing is deprecated. Use the functions in the public API at pandas.testing instead.\n",
            "  import pandas.util.testing as tm\n"
          ],
          "name": "stderr"
        }
      ]
    },
    {
      "cell_type": "code",
      "metadata": {
        "id": "Sd3egsS4Nhm6",
        "colab_type": "code",
        "colab": {}
      },
      "source": [
        "train= pd.read_csv('train.csv')\n",
        "test= pd.read_csv('test.csv')"
      ],
      "execution_count": null,
      "outputs": []
    },
    {
      "cell_type": "code",
      "metadata": {
        "id": "9_fqxiQlNsq2",
        "colab_type": "code",
        "colab": {
          "base_uri": "https://localhost:8080/",
          "height": 195
        },
        "outputId": "70d22562-64ff-421e-945e-651a14c1e9a6"
      },
      "source": [
        "train.head()"
      ],
      "execution_count": null,
      "outputs": [
        {
          "output_type": "execute_result",
          "data": {
            "text/html": [
              "<div>\n",
              "<style scoped>\n",
              "    .dataframe tbody tr th:only-of-type {\n",
              "        vertical-align: middle;\n",
              "    }\n",
              "\n",
              "    .dataframe tbody tr th {\n",
              "        vertical-align: top;\n",
              "    }\n",
              "\n",
              "    .dataframe thead th {\n",
              "        text-align: right;\n",
              "    }\n",
              "</style>\n",
              "<table border=\"1\" class=\"dataframe\">\n",
              "  <thead>\n",
              "    <tr style=\"text-align: right;\">\n",
              "      <th></th>\n",
              "      <th>id</th>\n",
              "      <th>label</th>\n",
              "      <th>tweet</th>\n",
              "    </tr>\n",
              "  </thead>\n",
              "  <tbody>\n",
              "    <tr>\n",
              "      <th>0</th>\n",
              "      <td>1</td>\n",
              "      <td>0</td>\n",
              "      <td>#fingerprint #Pregnancy Test https://goo.gl/h1...</td>\n",
              "    </tr>\n",
              "    <tr>\n",
              "      <th>1</th>\n",
              "      <td>2</td>\n",
              "      <td>0</td>\n",
              "      <td>Finally a transparant silicon case ^^ Thanks t...</td>\n",
              "    </tr>\n",
              "    <tr>\n",
              "      <th>2</th>\n",
              "      <td>3</td>\n",
              "      <td>0</td>\n",
              "      <td>We love this! Would you go? #talk #makememorie...</td>\n",
              "    </tr>\n",
              "    <tr>\n",
              "      <th>3</th>\n",
              "      <td>4</td>\n",
              "      <td>0</td>\n",
              "      <td>I'm wired I know I'm George I was made that wa...</td>\n",
              "    </tr>\n",
              "    <tr>\n",
              "      <th>4</th>\n",
              "      <td>5</td>\n",
              "      <td>1</td>\n",
              "      <td>What amazing service! Apple won't even talk to...</td>\n",
              "    </tr>\n",
              "  </tbody>\n",
              "</table>\n",
              "</div>"
            ],
            "text/plain": [
              "   id  label                                              tweet\n",
              "0   1      0  #fingerprint #Pregnancy Test https://goo.gl/h1...\n",
              "1   2      0  Finally a transparant silicon case ^^ Thanks t...\n",
              "2   3      0  We love this! Would you go? #talk #makememorie...\n",
              "3   4      0  I'm wired I know I'm George I was made that wa...\n",
              "4   5      1  What amazing service! Apple won't even talk to..."
            ]
          },
          "metadata": {
            "tags": []
          },
          "execution_count": 5
        }
      ]
    },
    {
      "cell_type": "code",
      "metadata": {
        "id": "kYgPzTzdOwss",
        "colab_type": "code",
        "colab": {
          "base_uri": "https://localhost:8080/",
          "height": 67
        },
        "outputId": "5992cbd2-db69-4ed9-c4e4-7536f9c00e7d"
      },
      "source": [
        "train['label'].value_counts()"
      ],
      "execution_count": null,
      "outputs": [
        {
          "output_type": "execute_result",
          "data": {
            "text/plain": [
              "0    5894\n",
              "1    2026\n",
              "Name: label, dtype: int64"
            ]
          },
          "metadata": {
            "tags": []
          },
          "execution_count": 6
        }
      ]
    },
    {
      "cell_type": "code",
      "metadata": {
        "id": "y9nKMthkPCOP",
        "colab_type": "code",
        "colab": {
          "base_uri": "https://localhost:8080/",
          "height": 185
        },
        "outputId": "3e3fac5a-7ea7-41a3-b8cd-fa4bd8259f7f"
      },
      "source": [
        "train.info()"
      ],
      "execution_count": null,
      "outputs": [
        {
          "output_type": "stream",
          "text": [
            "<class 'pandas.core.frame.DataFrame'>\n",
            "RangeIndex: 7920 entries, 0 to 7919\n",
            "Data columns (total 3 columns):\n",
            " #   Column  Non-Null Count  Dtype \n",
            "---  ------  --------------  ----- \n",
            " 0   id      7920 non-null   int64 \n",
            " 1   label   7920 non-null   int64 \n",
            " 2   tweet   7920 non-null   object\n",
            "dtypes: int64(2), object(1)\n",
            "memory usage: 185.8+ KB\n"
          ],
          "name": "stdout"
        }
      ]
    },
    {
      "cell_type": "code",
      "metadata": {
        "id": "QyySU_H2uAph",
        "colab_type": "code",
        "colab": {}
      },
      "source": [
        "df= pd.concat([train,test],axis=0)"
      ],
      "execution_count": null,
      "outputs": []
    },
    {
      "cell_type": "code",
      "metadata": {
        "id": "CXrc9mDtuYf0",
        "colab_type": "code",
        "colab": {
          "base_uri": "https://localhost:8080/",
          "height": 185
        },
        "outputId": "bd885f4a-a3fa-4730-eecf-ba7ffc2147cd"
      },
      "source": [
        "df.info()"
      ],
      "execution_count": null,
      "outputs": [
        {
          "output_type": "stream",
          "text": [
            "<class 'pandas.core.frame.DataFrame'>\n",
            "Int64Index: 9873 entries, 0 to 1952\n",
            "Data columns (total 3 columns):\n",
            " #   Column  Non-Null Count  Dtype  \n",
            "---  ------  --------------  -----  \n",
            " 0   id      9873 non-null   int64  \n",
            " 1   label   7920 non-null   float64\n",
            " 2   tweet   9873 non-null   object \n",
            "dtypes: float64(1), int64(1), object(1)\n",
            "memory usage: 308.5+ KB\n"
          ],
          "name": "stdout"
        }
      ]
    },
    {
      "cell_type": "code",
      "metadata": {
        "id": "UK1zBqPvhxgv",
        "colab_type": "code",
        "colab": {}
      },
      "source": [
        "#!pip install -U spacy"
      ],
      "execution_count": null,
      "outputs": []
    },
    {
      "cell_type": "code",
      "metadata": {
        "id": "ZkSzBvtahZKk",
        "colab_type": "code",
        "colab": {}
      },
      "source": [
        "#!python -m spacy download en\n"
      ],
      "execution_count": null,
      "outputs": []
    },
    {
      "cell_type": "code",
      "metadata": {
        "id": "mY-wggc1ZBV5",
        "colab_type": "code",
        "colab": {
          "base_uri": "https://localhost:8080/",
          "height": 84
        },
        "outputId": "885d5c87-15ae-403c-e2d6-675bc104aff9"
      },
      "source": [
        "import nltk\n",
        "nltk.download('punkt')\n",
        "from nltk.tokenize import word_tokenize\n",
        "import string\n",
        "import re\n",
        "import spacy\n",
        "sp = spacy.load('en_core_web_sm')\n",
        "from nltk.stem import WordNetLemmatizer\n",
        "nltk.download('wordnet')\n",
        "lemma= WordNetLemmatizer()"
      ],
      "execution_count": null,
      "outputs": [
        {
          "output_type": "stream",
          "text": [
            "[nltk_data] Downloading package punkt to /root/nltk_data...\n",
            "[nltk_data]   Package punkt is already up-to-date!\n",
            "[nltk_data] Downloading package wordnet to /root/nltk_data...\n",
            "[nltk_data]   Package wordnet is already up-to-date!\n"
          ],
          "name": "stdout"
        }
      ]
    },
    {
      "cell_type": "code",
      "metadata": {
        "id": "JhNgAvG0Wpm6",
        "colab_type": "code",
        "colab": {}
      },
      "source": [
        "def clean_data(text):\n",
        "  #remove emails\n",
        "  text = ' '.join([i for i in text.split() if '@' not in i])\n",
        "    \n",
        "  #remove web address\n",
        "  text = re.sub('http[s]?://\\S+', '', text)\n",
        "    \n",
        "  #Filter to allow only alphabets\n",
        "  text = re.sub(r'[^a-zA-Z\\']', ' ', text)\n",
        "    \n",
        "  #Remove Unicode characters\n",
        "  text = re.sub(r'[^\\x00-\\x7F]+', '', text)\n",
        "    \n",
        "  #Convert to lowercase to maintain consistency\n",
        "  text = text.lower()\n",
        "    \n",
        "  #Remove stopwords\n",
        "  all_stopwords = sp.Defaults.stop_words\n",
        "  text_tokens = word_tokenize(text)\n",
        "  tokens_without_sw= [word for word in text_tokens if not word in all_stopwords]\n",
        "  text=' '.join(tokens_without_sw)\n",
        "  \n",
        "  #lemmatization\n",
        "  text= [lemma.lemmatize(w) for w in tokens_without_sw]\n",
        "  text= ' '.join(text)\n",
        "  \n",
        "  #remove double spaces \n",
        "  text = re.sub('\\s+', ' ',text)\n",
        "  return (text)"
      ],
      "execution_count": null,
      "outputs": []
    },
    {
      "cell_type": "code",
      "metadata": {
        "id": "Fkhegzq8Bfml",
        "colab_type": "code",
        "colab": {
          "base_uri": "https://localhost:8080/",
          "height": 195
        },
        "outputId": "a8cbbaec-9e88-4793-a672-6345cdf19201"
      },
      "source": [
        "df.head()"
      ],
      "execution_count": null,
      "outputs": [
        {
          "output_type": "execute_result",
          "data": {
            "text/html": [
              "<div>\n",
              "<style scoped>\n",
              "    .dataframe tbody tr th:only-of-type {\n",
              "        vertical-align: middle;\n",
              "    }\n",
              "\n",
              "    .dataframe tbody tr th {\n",
              "        vertical-align: top;\n",
              "    }\n",
              "\n",
              "    .dataframe thead th {\n",
              "        text-align: right;\n",
              "    }\n",
              "</style>\n",
              "<table border=\"1\" class=\"dataframe\">\n",
              "  <thead>\n",
              "    <tr style=\"text-align: right;\">\n",
              "      <th></th>\n",
              "      <th>id</th>\n",
              "      <th>label</th>\n",
              "      <th>tweet</th>\n",
              "    </tr>\n",
              "  </thead>\n",
              "  <tbody>\n",
              "    <tr>\n",
              "      <th>0</th>\n",
              "      <td>1</td>\n",
              "      <td>0.0</td>\n",
              "      <td>#fingerprint #Pregnancy Test https://goo.gl/h1...</td>\n",
              "    </tr>\n",
              "    <tr>\n",
              "      <th>1</th>\n",
              "      <td>2</td>\n",
              "      <td>0.0</td>\n",
              "      <td>Finally a transparant silicon case ^^ Thanks t...</td>\n",
              "    </tr>\n",
              "    <tr>\n",
              "      <th>2</th>\n",
              "      <td>3</td>\n",
              "      <td>0.0</td>\n",
              "      <td>We love this! Would you go? #talk #makememorie...</td>\n",
              "    </tr>\n",
              "    <tr>\n",
              "      <th>3</th>\n",
              "      <td>4</td>\n",
              "      <td>0.0</td>\n",
              "      <td>I'm wired I know I'm George I was made that wa...</td>\n",
              "    </tr>\n",
              "    <tr>\n",
              "      <th>4</th>\n",
              "      <td>5</td>\n",
              "      <td>1.0</td>\n",
              "      <td>What amazing service! Apple won't even talk to...</td>\n",
              "    </tr>\n",
              "  </tbody>\n",
              "</table>\n",
              "</div>"
            ],
            "text/plain": [
              "   id  label                                              tweet\n",
              "0   1    0.0  #fingerprint #Pregnancy Test https://goo.gl/h1...\n",
              "1   2    0.0  Finally a transparant silicon case ^^ Thanks t...\n",
              "2   3    0.0  We love this! Would you go? #talk #makememorie...\n",
              "3   4    0.0  I'm wired I know I'm George I was made that wa...\n",
              "4   5    1.0  What amazing service! Apple won't even talk to..."
            ]
          },
          "metadata": {
            "tags": []
          },
          "execution_count": 14
        }
      ]
    },
    {
      "cell_type": "code",
      "metadata": {
        "id": "3WoWYu--YOK2",
        "colab_type": "code",
        "colab": {}
      },
      "source": [
        "df['clean_tweet']= df['tweet'].apply(clean_data)"
      ],
      "execution_count": null,
      "outputs": []
    },
    {
      "cell_type": "code",
      "metadata": {
        "id": "P4O8wIilY4hl",
        "colab_type": "code",
        "colab": {
          "base_uri": "https://localhost:8080/",
          "height": 50
        },
        "outputId": "2eaa5c0d-02b4-4dce-d762-2f6ceee46ee1"
      },
      "source": [
        "print(df['tweet'].iloc[4])\n",
        "print(df['clean_tweet'].iloc[4])"
      ],
      "execution_count": null,
      "outputs": [
        {
          "output_type": "stream",
          "text": [
            "What amazing service! Apple won't even talk to me about a question I have unless I pay them $19.95 for their stupid support!\n",
            "amazing service apple wo talk question pay stupid support\n"
          ],
          "name": "stdout"
        }
      ]
    },
    {
      "cell_type": "code",
      "metadata": {
        "id": "uDtv4X2gH7MI",
        "colab_type": "code",
        "colab": {
          "base_uri": "https://localhost:8080/",
          "height": 101
        },
        "outputId": "0c098b70-e925-4247-9deb-da31d1375ecc"
      },
      "source": [
        "df.isna().sum()"
      ],
      "execution_count": null,
      "outputs": [
        {
          "output_type": "execute_result",
          "data": {
            "text/plain": [
              "id                0\n",
              "label          1953\n",
              "tweet             0\n",
              "clean_tweet       0\n",
              "dtype: int64"
            ]
          },
          "metadata": {
            "tags": []
          },
          "execution_count": 17
        }
      ]
    },
    {
      "cell_type": "code",
      "metadata": {
        "id": "52XAYwVR2HY8",
        "colab_type": "code",
        "colab": {
          "base_uri": "https://localhost:8080/",
          "height": 84
        },
        "outputId": "3405eb2b-68d2-428b-fa3b-32338827e91c"
      },
      "source": [
        "train.isna().sum()"
      ],
      "execution_count": null,
      "outputs": [
        {
          "output_type": "execute_result",
          "data": {
            "text/plain": [
              "id       0\n",
              "label    0\n",
              "tweet    0\n",
              "dtype: int64"
            ]
          },
          "metadata": {
            "tags": []
          },
          "execution_count": 18
        }
      ]
    },
    {
      "cell_type": "code",
      "metadata": {
        "id": "DxuG2phg2UYH",
        "colab_type": "code",
        "colab": {}
      },
      "source": [
        ""
      ],
      "execution_count": null,
      "outputs": []
    },
    {
      "cell_type": "code",
      "metadata": {
        "id": "ThaWwNlV2SB7",
        "colab_type": "code",
        "colab": {}
      },
      "source": [
        ""
      ],
      "execution_count": null,
      "outputs": []
    },
    {
      "cell_type": "code",
      "metadata": {
        "id": "Uf3De8Y9hPxc",
        "colab_type": "code",
        "colab": {}
      },
      "source": [
        "train_new= df[:7920].copy()\n",
        "test_new= df[7920:].copy()"
      ],
      "execution_count": null,
      "outputs": []
    },
    {
      "cell_type": "code",
      "metadata": {
        "id": "DViVy8sgvJt8",
        "colab_type": "code",
        "colab": {
          "base_uri": "https://localhost:8080/",
          "height": 195
        },
        "outputId": "464bd6ee-6834-4987-ab6c-06d878666b5c"
      },
      "source": [
        "train_new.drop(columns=['id','tweet'],inplace=True)\n",
        "train_new['label']=train_new['label'].astype(int)\n",
        "train_new.head()"
      ],
      "execution_count": null,
      "outputs": [
        {
          "output_type": "execute_result",
          "data": {
            "text/html": [
              "<div>\n",
              "<style scoped>\n",
              "    .dataframe tbody tr th:only-of-type {\n",
              "        vertical-align: middle;\n",
              "    }\n",
              "\n",
              "    .dataframe tbody tr th {\n",
              "        vertical-align: top;\n",
              "    }\n",
              "\n",
              "    .dataframe thead th {\n",
              "        text-align: right;\n",
              "    }\n",
              "</style>\n",
              "<table border=\"1\" class=\"dataframe\">\n",
              "  <thead>\n",
              "    <tr style=\"text-align: right;\">\n",
              "      <th></th>\n",
              "      <th>label</th>\n",
              "      <th>clean_tweet</th>\n",
              "    </tr>\n",
              "  </thead>\n",
              "  <tbody>\n",
              "    <tr>\n",
              "      <th>0</th>\n",
              "      <td>0</td>\n",
              "      <td>fingerprint pregnancy test android apps beauti...</td>\n",
              "    </tr>\n",
              "    <tr>\n",
              "      <th>1</th>\n",
              "      <td>0</td>\n",
              "      <td>finally transparant silicon case thanks uncle ...</td>\n",
              "    </tr>\n",
              "    <tr>\n",
              "      <th>2</th>\n",
              "      <td>0</td>\n",
              "      <td>love talk makememories unplug relax iphone sma...</td>\n",
              "    </tr>\n",
              "    <tr>\n",
              "      <th>3</th>\n",
              "      <td>0</td>\n",
              "      <td>wired know george way iphone cute daventry home</td>\n",
              "    </tr>\n",
              "    <tr>\n",
              "      <th>4</th>\n",
              "      <td>1</td>\n",
              "      <td>amazing service apple wo talk question pay stu...</td>\n",
              "    </tr>\n",
              "  </tbody>\n",
              "</table>\n",
              "</div>"
            ],
            "text/plain": [
              "   label                                        clean_tweet\n",
              "0      0  fingerprint pregnancy test android apps beauti...\n",
              "1      0  finally transparant silicon case thanks uncle ...\n",
              "2      0  love talk makememories unplug relax iphone sma...\n",
              "3      0    wired know george way iphone cute daventry home\n",
              "4      1  amazing service apple wo talk question pay stu..."
            ]
          },
          "metadata": {
            "tags": []
          },
          "execution_count": 20
        }
      ]
    },
    {
      "cell_type": "code",
      "metadata": {
        "id": "vd5aWplovmTj",
        "colab_type": "code",
        "colab": {
          "base_uri": "https://localhost:8080/",
          "height": 195
        },
        "outputId": "ec92c1fe-d1da-4831-addc-78e237d96d97"
      },
      "source": [
        "test_new.drop(columns=['label','tweet'],inplace=True)\n",
        "test_new.head()"
      ],
      "execution_count": null,
      "outputs": [
        {
          "output_type": "execute_result",
          "data": {
            "text/html": [
              "<div>\n",
              "<style scoped>\n",
              "    .dataframe tbody tr th:only-of-type {\n",
              "        vertical-align: middle;\n",
              "    }\n",
              "\n",
              "    .dataframe tbody tr th {\n",
              "        vertical-align: top;\n",
              "    }\n",
              "\n",
              "    .dataframe thead th {\n",
              "        text-align: right;\n",
              "    }\n",
              "</style>\n",
              "<table border=\"1\" class=\"dataframe\">\n",
              "  <thead>\n",
              "    <tr style=\"text-align: right;\">\n",
              "      <th></th>\n",
              "      <th>id</th>\n",
              "      <th>clean_tweet</th>\n",
              "    </tr>\n",
              "  </thead>\n",
              "  <tbody>\n",
              "    <tr>\n",
              "      <th>0</th>\n",
              "      <td>7921</td>\n",
              "      <td>hate new iphone upgrade wo let download apps u...</td>\n",
              "    </tr>\n",
              "    <tr>\n",
              "      <th>1</th>\n",
              "      <td>7922</td>\n",
              "      <td>currently shitting fucking pant apple imac cas...</td>\n",
              "    </tr>\n",
              "    <tr>\n",
              "      <th>2</th>\n",
              "      <td>7923</td>\n",
              "      <td>like put cd rom ipad possible ' yes block screen</td>\n",
              "    </tr>\n",
              "    <tr>\n",
              "      <th>3</th>\n",
              "      <td>7924</td>\n",
              "      <td>ipod officially dead lost picture video d so c...</td>\n",
              "    </tr>\n",
              "    <tr>\n",
              "      <th>4</th>\n",
              "      <td>7925</td>\n",
              "      <td>fighting itunes night want music paid</td>\n",
              "    </tr>\n",
              "  </tbody>\n",
              "</table>\n",
              "</div>"
            ],
            "text/plain": [
              "     id                                        clean_tweet\n",
              "0  7921  hate new iphone upgrade wo let download apps u...\n",
              "1  7922  currently shitting fucking pant apple imac cas...\n",
              "2  7923   like put cd rom ipad possible ' yes block screen\n",
              "3  7924  ipod officially dead lost picture video d so c...\n",
              "4  7925              fighting itunes night want music paid"
            ]
          },
          "metadata": {
            "tags": []
          },
          "execution_count": 21
        }
      ]
    },
    {
      "cell_type": "code",
      "metadata": {
        "id": "BTTSJxyDHgHF",
        "colab_type": "code",
        "colab": {}
      },
      "source": [
        "train_new= train_new.reindex(np.random.permutation(train_new.index))\n",
        "train_new= train_new.reset_index(drop=True)"
      ],
      "execution_count": null,
      "outputs": []
    },
    {
      "cell_type": "code",
      "metadata": {
        "id": "cPoAKb-xzEBT",
        "colab_type": "code",
        "colab": {}
      },
      "source": [
        "corpus=[]\n",
        "labels=[]\n",
        "for i in range(len(train_new)):\n",
        "  corpus.append(train_new['clean_tweet'][i])\n",
        "  labels.append(train_new['label'][i])"
      ],
      "execution_count": null,
      "outputs": []
    },
    {
      "cell_type": "code",
      "metadata": {
        "id": "cGKGApMBz0w_",
        "colab_type": "code",
        "colab": {}
      },
      "source": [
        "test_portion=0.2\n",
        "split=int(test_portion*len(train_new))"
      ],
      "execution_count": null,
      "outputs": []
    },
    {
      "cell_type": "code",
      "metadata": {
        "id": "9AiS4pWe29ny",
        "colab_type": "code",
        "colab": {}
      },
      "source": [
        "from tensorflow.keras import Sequential\n",
        "from tensorflow.keras.preprocessing.text import Tokenizer\n",
        "from tensorflow.keras.preprocessing.sequence import pad_sequences\n",
        "from tensorflow.keras.layers import Embedding, Bidirectional, LSTM, Dense, SpatialDropout1D\n",
        "from tensorflow.keras.optimizers import Adam"
      ],
      "execution_count": null,
      "outputs": []
    },
    {
      "cell_type": "code",
      "metadata": {
        "id": "gCBbxBE73_5Y",
        "colab_type": "code",
        "colab": {}
      },
      "source": [
        "oov_token='<OOV>'\n",
        "pad_type='post'\n",
        "trunc_type='post'\n",
        "embedding_dim=50\n",
        "max_length= 150 #max([len(x) for x in corpus])"
      ],
      "execution_count": null,
      "outputs": []
    },
    {
      "cell_type": "code",
      "metadata": {
        "id": "KqBlHdEVGlZg",
        "colab_type": "code",
        "colab": {}
      },
      "source": [
        ""
      ],
      "execution_count": null,
      "outputs": []
    },
    {
      "cell_type": "code",
      "metadata": {
        "id": "xFClAwJf5SS2",
        "colab_type": "code",
        "colab": {
          "base_uri": "https://localhost:8080/",
          "height": 34
        },
        "outputId": "89ead5bc-fc40-4060-c780-87bae1043631"
      },
      "source": [
        "tokenizer= Tokenizer()\n",
        "tokenizer.fit_on_texts(corpus)\n",
        "word_index= tokenizer.word_index\n",
        "vocab_size= len(word_index)\n",
        "print(vocab_size)\n",
        "\n",
        "sequences= tokenizer.texts_to_sequences(corpus)\n",
        "padded= pad_sequences(sequences,maxlen=max_length,padding=pad_type,truncating=trunc_type)\n",
        "\n",
        "val_sequences = padded[0:split]\n",
        "train_sequences = padded[split:]\n",
        "val_labels = labels[0:split]\n",
        "train_labels = labels[split:]"
      ],
      "execution_count": null,
      "outputs": [
        {
          "output_type": "stream",
          "text": [
            "15653\n"
          ],
          "name": "stdout"
        }
      ]
    },
    {
      "cell_type": "code",
      "metadata": {
        "id": "bSxCMd8VEYxF",
        "colab_type": "code",
        "colab": {}
      },
      "source": [
        "embeddings_index = {};\n",
        "with open('/content/gdrive/My Drive/ML/GloVe/glove.6B.50d.txt') as f:\n",
        "    for line in f:\n",
        "        values = line.split();\n",
        "        word = values[0];\n",
        "        coefs = np.asarray(values[1:], dtype='float32');\n",
        "        embeddings_index[word] = coefs;\n",
        "\n",
        "embeddings_matrix = np.zeros((vocab_size+1, embedding_dim));\n",
        "for word, i in word_index.items():\n",
        "    embedding_vector = embeddings_index.get(word);\n",
        "    if embedding_vector is not None:\n",
        "        embeddings_matrix[i] = embedding_vector;"
      ],
      "execution_count": null,
      "outputs": []
    },
    {
      "cell_type": "code",
      "metadata": {
        "id": "F474HwB55UE2",
        "colab_type": "code",
        "colab": {
          "base_uri": "https://localhost:8080/",
          "height": 319
        },
        "outputId": "d7271755-443d-40d9-8e4e-82cd1a11facc"
      },
      "source": [
        "model = Sequential()\n",
        "model.add(Embedding(vocab_size+1,embedding_dim,input_length=max_length,weights=[embeddings_matrix], trainable=False))\n",
        "model.add(SpatialDropout1D(0.3))\n",
        "model.add(Bidirectional(LSTM(50)))\n",
        "model.add(Dense(32, activation='relu'))\n",
        "model.add(Dense(1,activation='sigmoid'))\n",
        "\n",
        "adam= Adam(0.001)\n",
        "model.compile(loss='binary_crossentropy',optimizer=adam ,metrics=['accuracy'])\n",
        "model.summary()"
      ],
      "execution_count": null,
      "outputs": [
        {
          "output_type": "stream",
          "text": [
            "Model: \"sequential\"\n",
            "_________________________________________________________________\n",
            "Layer (type)                 Output Shape              Param #   \n",
            "=================================================================\n",
            "embedding (Embedding)        (None, 150, 50)           782700    \n",
            "_________________________________________________________________\n",
            "spatial_dropout1d (SpatialDr (None, 150, 50)           0         \n",
            "_________________________________________________________________\n",
            "bidirectional (Bidirectional (None, 100)               40400     \n",
            "_________________________________________________________________\n",
            "dense (Dense)                (None, 32)                3232      \n",
            "_________________________________________________________________\n",
            "dense_1 (Dense)              (None, 1)                 33        \n",
            "=================================================================\n",
            "Total params: 826,365\n",
            "Trainable params: 43,665\n",
            "Non-trainable params: 782,700\n",
            "_________________________________________________________________\n"
          ],
          "name": "stdout"
        }
      ]
    },
    {
      "cell_type": "code",
      "metadata": {
        "id": "T4N2umD99Haw",
        "colab_type": "code",
        "colab": {}
      },
      "source": [
        "num_epochs = 20\n",
        "training_padded= np.array(train_sequences)\n",
        "training_labels= np.array(train_labels)\n",
        "val_padded=  np.array(val_sequences)\n",
        "val_labels= np.array(val_labels)"
      ],
      "execution_count": null,
      "outputs": []
    },
    {
      "cell_type": "code",
      "metadata": {
        "id": "O_mZkc7e9cbc",
        "colab_type": "code",
        "colab": {
          "base_uri": "https://localhost:8080/",
          "height": 689
        },
        "outputId": "593a1fab-763e-4d7c-ed82-f857eb9d5ed9"
      },
      "source": [
        "history = model.fit(training_padded,training_labels, epochs=num_epochs, validation_data=(val_padded,val_labels), verbose=1)"
      ],
      "execution_count": null,
      "outputs": [
        {
          "output_type": "stream",
          "text": [
            "Epoch 1/20\n",
            "198/198 [==============================] - 4s 23ms/step - loss: 0.4482 - accuracy: 0.7874 - val_loss: 0.3541 - val_accuracy: 0.8636\n",
            "Epoch 2/20\n",
            "198/198 [==============================] - 4s 19ms/step - loss: 0.3514 - accuracy: 0.8333 - val_loss: 0.3315 - val_accuracy: 0.8605\n",
            "Epoch 3/20\n",
            "198/198 [==============================] - 4s 18ms/step - loss: 0.3327 - accuracy: 0.8483 - val_loss: 0.2752 - val_accuracy: 0.8813\n",
            "Epoch 4/20\n",
            "198/198 [==============================] - 4s 18ms/step - loss: 0.3168 - accuracy: 0.8562 - val_loss: 0.2833 - val_accuracy: 0.8737\n",
            "Epoch 5/20\n",
            "198/198 [==============================] - 4s 18ms/step - loss: 0.3108 - accuracy: 0.8619 - val_loss: 0.2680 - val_accuracy: 0.8782\n",
            "Epoch 6/20\n",
            "198/198 [==============================] - 4s 18ms/step - loss: 0.3044 - accuracy: 0.8622 - val_loss: 0.2511 - val_accuracy: 0.8965\n",
            "Epoch 7/20\n",
            "198/198 [==============================] - 4s 18ms/step - loss: 0.2962 - accuracy: 0.8679 - val_loss: 0.2571 - val_accuracy: 0.8946\n",
            "Epoch 8/20\n",
            "198/198 [==============================] - 4s 18ms/step - loss: 0.2818 - accuracy: 0.8764 - val_loss: 0.2620 - val_accuracy: 0.8920\n",
            "Epoch 9/20\n",
            "198/198 [==============================] - 4s 18ms/step - loss: 0.2849 - accuracy: 0.8720 - val_loss: 0.2660 - val_accuracy: 0.8845\n",
            "Epoch 10/20\n",
            "198/198 [==============================] - 4s 18ms/step - loss: 0.2763 - accuracy: 0.8786 - val_loss: 0.2724 - val_accuracy: 0.8832\n",
            "Epoch 11/20\n",
            "198/198 [==============================] - 4s 18ms/step - loss: 0.2770 - accuracy: 0.8745 - val_loss: 0.2496 - val_accuracy: 0.8990\n",
            "Epoch 12/20\n",
            "198/198 [==============================] - 4s 18ms/step - loss: 0.2703 - accuracy: 0.8788 - val_loss: 0.2656 - val_accuracy: 0.8851\n",
            "Epoch 13/20\n",
            "198/198 [==============================] - 4s 18ms/step - loss: 0.2650 - accuracy: 0.8840 - val_loss: 0.2536 - val_accuracy: 0.8933\n",
            "Epoch 14/20\n",
            "198/198 [==============================] - 4s 18ms/step - loss: 0.2665 - accuracy: 0.8849 - val_loss: 0.2480 - val_accuracy: 0.8971\n",
            "Epoch 15/20\n",
            "198/198 [==============================] - 4s 18ms/step - loss: 0.2556 - accuracy: 0.8878 - val_loss: 0.2513 - val_accuracy: 0.9003\n",
            "Epoch 16/20\n",
            "198/198 [==============================] - 4s 18ms/step - loss: 0.2602 - accuracy: 0.8838 - val_loss: 0.2469 - val_accuracy: 0.8965\n",
            "Epoch 17/20\n",
            "198/198 [==============================] - 4s 18ms/step - loss: 0.2514 - accuracy: 0.8914 - val_loss: 0.2485 - val_accuracy: 0.8927\n",
            "Epoch 18/20\n",
            "198/198 [==============================] - 4s 18ms/step - loss: 0.2484 - accuracy: 0.8873 - val_loss: 0.2625 - val_accuracy: 0.8920\n",
            "Epoch 19/20\n",
            "198/198 [==============================] - 4s 18ms/step - loss: 0.2437 - accuracy: 0.8898 - val_loss: 0.2558 - val_accuracy: 0.8946\n",
            "Epoch 20/20\n",
            "198/198 [==============================] - 4s 18ms/step - loss: 0.2426 - accuracy: 0.8950 - val_loss: 0.2585 - val_accuracy: 0.8933\n"
          ],
          "name": "stdout"
        }
      ]
    },
    {
      "cell_type": "code",
      "metadata": {
        "id": "9OlVdNxG9ojX",
        "colab_type": "code",
        "colab": {
          "base_uri": "https://localhost:8080/",
          "height": 541
        },
        "outputId": "e8e32871-5ed5-4efa-9351-eab06d137233"
      },
      "source": [
        "import matplotlib.pyplot as plt\n",
        "\n",
        "def plot_graphs(history, string):\n",
        "  plt.plot(history.history[string])\n",
        "  plt.plot(history.history['val_'+string])\n",
        "  plt.xlabel(\"Epochs\")\n",
        "  plt.ylabel(string)\n",
        "  plt.legend([string, 'val_'+string])\n",
        "  plt.show()\n",
        "\n",
        "plot_graphs(history, 'accuracy')\n",
        "plot_graphs(history, 'loss')"
      ],
      "execution_count": null,
      "outputs": [
        {
          "output_type": "display_data",
          "data": {
            "image/png": "[encoded data removed]",
            "text/plain": [
              "<Figure size 432x288 with 1 Axes>"
            ]
          },
          "metadata": {
            "tags": [],
            "needs_background": "light"
          }
        },
        {
          "output_type": "display_data",
          "data": {
            "image/png": "[encoded data removed]",
            "text/plain": [
              "<Figure size 432x288 with 1 Axes>"
            ]
          },
          "metadata": {
            "tags": [],
            "needs_background": "light"
          }
        }
      ]
    },
    {
      "cell_type": "code",
      "metadata": {
        "id": "fdU1Jj_PNJ_8",
        "colab_type": "code",
        "colab": {
          "base_uri": "https://localhost:8080/",
          "height": 319
        },
        "outputId": "c7bd2369-ced0-4021-e81f-e4c8a9519df5"
      },
      "source": [
        "padded= np.array(padded)\n",
        "labels= np.array(labels)\n",
        "\n",
        "model_final = Sequential()\n",
        "model_final.add(Embedding(vocab_size+1,embedding_dim,input_length=max_length,weights=[embeddings_matrix], trainable=False))\n",
        "model_final.add(SpatialDropout1D(0.3))\n",
        "model_final.add(Bidirectional(LSTM(50)))\n",
        "model_final.add(Dense(32, activation='relu'))\n",
        "model_final.add(Dense(1,activation='sigmoid'))\n",
        "model_final.compile(loss='binary_crossentropy',optimizer=adam ,metrics=['accuracy'])\n",
        "model_final.summary()"
      ],
      "execution_count": null,
      "outputs": [
        {
          "output_type": "stream",
          "text": [
            "Model: \"sequential_1\"\n",
            "_________________________________________________________________\n",
            "Layer (type)                 Output Shape              Param #   \n",
            "=================================================================\n",
            "embedding_1 (Embedding)      (None, 150, 50)           782700    \n",
            "_________________________________________________________________\n",
            "spatial_dropout1d_1 (Spatial (None, 150, 50)           0         \n",
            "_________________________________________________________________\n",
            "bidirectional_1 (Bidirection (None, 100)               40400     \n",
            "_________________________________________________________________\n",
            "dense_2 (Dense)              (None, 32)                3232      \n",
            "_________________________________________________________________\n",
            "dense_3 (Dense)              (None, 1)                 33        \n",
            "=================================================================\n",
            "Total params: 826,365\n",
            "Trainable params: 43,665\n",
            "Non-trainable params: 782,700\n",
            "_________________________________________________________________\n"
          ],
          "name": "stdout"
        }
      ]
    },
    {
      "cell_type": "code",
      "metadata": {
        "id": "1UiYC0ItNgS6",
        "colab_type": "code",
        "colab": {
          "base_uri": "https://localhost:8080/",
          "height": 689
        },
        "outputId": "8e1e44c8-9a5d-4c27-b6c3-0700f9907685"
      },
      "source": [
        "history = model_final.fit(padded, labels, epochs=num_epochs, verbose=1)"
      ],
      "execution_count": null,
      "outputs": [
        {
          "output_type": "stream",
          "text": [
            "Epoch 1/20\n",
            "248/248 [==============================] - 4s 18ms/step - loss: 0.3640 - accuracy: 0.8332\n",
            "Epoch 2/20\n",
            "248/248 [==============================] - 4s 17ms/step - loss: 0.2992 - accuracy: 0.8683\n",
            "Epoch 3/20\n",
            "248/248 [==============================] - 4s 17ms/step - loss: 0.2801 - accuracy: 0.8794\n",
            "Epoch 4/20\n",
            "248/248 [==============================] - 4s 17ms/step - loss: 0.2705 - accuracy: 0.8808\n",
            "Epoch 5/20\n",
            "248/248 [==============================] - 4s 17ms/step - loss: 0.2639 - accuracy: 0.8836\n",
            "Epoch 6/20\n",
            "248/248 [==============================] - 4s 17ms/step - loss: 0.2551 - accuracy: 0.8855\n",
            "Epoch 7/20\n",
            "248/248 [==============================] - 4s 17ms/step - loss: 0.2547 - accuracy: 0.8846\n",
            "Epoch 8/20\n",
            "248/248 [==============================] - 4s 17ms/step - loss: 0.2431 - accuracy: 0.8931\n",
            "Epoch 9/20\n",
            "248/248 [==============================] - 4s 17ms/step - loss: 0.2332 - accuracy: 0.8985\n",
            "Epoch 10/20\n",
            "248/248 [==============================] - 4s 17ms/step - loss: 0.2292 - accuracy: 0.9025\n",
            "Epoch 11/20\n",
            "248/248 [==============================] - 4s 17ms/step - loss: 0.2237 - accuracy: 0.9033\n",
            "Epoch 12/20\n",
            "248/248 [==============================] - 4s 17ms/step - loss: 0.2171 - accuracy: 0.9071\n",
            "Epoch 13/20\n",
            "248/248 [==============================] - 4s 17ms/step - loss: 0.2179 - accuracy: 0.9069\n",
            "Epoch 14/20\n",
            "248/248 [==============================] - 4s 17ms/step - loss: 0.2068 - accuracy: 0.9098\n",
            "Epoch 15/20\n",
            "248/248 [==============================] - 4s 17ms/step - loss: 0.2086 - accuracy: 0.9124\n",
            "Epoch 16/20\n",
            "248/248 [==============================] - 4s 17ms/step - loss: 0.2041 - accuracy: 0.9096\n",
            "Epoch 17/20\n",
            "248/248 [==============================] - 4s 17ms/step - loss: 0.2050 - accuracy: 0.9082\n",
            "Epoch 18/20\n",
            "248/248 [==============================] - 4s 17ms/step - loss: 0.1892 - accuracy: 0.9193\n",
            "Epoch 19/20\n",
            "248/248 [==============================] - 4s 17ms/step - loss: 0.1891 - accuracy: 0.9163\n",
            "Epoch 20/20\n",
            "248/248 [==============================] - 4s 18ms/step - loss: 0.1904 - accuracy: 0.9168\n"
          ],
          "name": "stdout"
        }
      ]
    },
    {
      "cell_type": "code",
      "metadata": {
        "id": "PBYud5MGNsjX",
        "colab_type": "code",
        "colab": {}
      },
      "source": [
        ""
      ],
      "execution_count": null,
      "outputs": []
    },
    {
      "cell_type": "code",
      "metadata": {
        "id": "AywiVfAmC2pK",
        "colab_type": "code",
        "colab": {}
      },
      "source": [
        "test_corpus=[]\n",
        "for i in range(len(test_new)):\n",
        "  test_corpus.append(test_new['clean_tweet'][i])\n",
        "\n",
        "test_sequences= tokenizer.texts_to_sequences(test_corpus)\n",
        "test_padded= pad_sequences(test_sequences,maxlen=max_length,padding=pad_type,truncating=trunc_type)\n",
        "\n",
        "test_padded= np.array(test_padded)"
      ],
      "execution_count": null,
      "outputs": []
    },
    {
      "cell_type": "code",
      "metadata": {
        "id": "VvBVY_83PhZ7",
        "colab_type": "code",
        "colab": {}
      },
      "source": [
        "predictions= (model_final.predict(test_padded)>0.5).astype(int)"
      ],
      "execution_count": null,
      "outputs": []
    },
    {
      "cell_type": "code",
      "metadata": {
        "id": "UC5rmmWaPpUt",
        "colab_type": "code",
        "colab": {}
      },
      "source": [
        "file= pd.read_csv('sample_submission.csv')"
      ],
      "execution_count": null,
      "outputs": []
    },
    {
      "cell_type": "code",
      "metadata": {
        "id": "51Z8HKvhRk-H",
        "colab_type": "code",
        "colab": {
          "base_uri": "https://localhost:8080/",
          "height": 195
        },
        "outputId": "7398f5c9-ac10-4f20-a8b2-471fff1fda9b"
      },
      "source": [
        "file.head()"
      ],
      "execution_count": null,
      "outputs": [
        {
          "output_type": "execute_result",
          "data": {
            "text/html": [
              "<div>\n",
              "<style scoped>\n",
              "    .dataframe tbody tr th:only-of-type {\n",
              "        vertical-align: middle;\n",
              "    }\n",
              "\n",
              "    .dataframe tbody tr th {\n",
              "        vertical-align: top;\n",
              "    }\n",
              "\n",
              "    .dataframe thead th {\n",
              "        text-align: right;\n",
              "    }\n",
              "</style>\n",
              "<table border=\"1\" class=\"dataframe\">\n",
              "  <thead>\n",
              "    <tr style=\"text-align: right;\">\n",
              "      <th></th>\n",
              "      <th>id</th>\n",
              "      <th>label</th>\n",
              "    </tr>\n",
              "  </thead>\n",
              "  <tbody>\n",
              "    <tr>\n",
              "      <th>0</th>\n",
              "      <td>7921</td>\n",
              "      <td>0</td>\n",
              "    </tr>\n",
              "    <tr>\n",
              "      <th>1</th>\n",
              "      <td>7922</td>\n",
              "      <td>0</td>\n",
              "    </tr>\n",
              "    <tr>\n",
              "      <th>2</th>\n",
              "      <td>7923</td>\n",
              "      <td>0</td>\n",
              "    </tr>\n",
              "    <tr>\n",
              "      <th>3</th>\n",
              "      <td>7924</td>\n",
              "      <td>0</td>\n",
              "    </tr>\n",
              "    <tr>\n",
              "      <th>4</th>\n",
              "      <td>7925</td>\n",
              "      <td>0</td>\n",
              "    </tr>\n",
              "  </tbody>\n",
              "</table>\n",
              "</div>"
            ],
            "text/plain": [
              "     id  label\n",
              "0  7921      0\n",
              "1  7922      0\n",
              "2  7923      0\n",
              "3  7924      0\n",
              "4  7925      0"
            ]
          },
          "metadata": {
            "tags": []
          },
          "execution_count": 38
        }
      ]
    },
    {
      "cell_type": "code",
      "metadata": {
        "id": "mojjcJcbP9Ra",
        "colab_type": "code",
        "colab": {}
      },
      "source": [
        "file['label']= (predictions>0.5).astype(int)"
      ],
      "execution_count": null,
      "outputs": []
    },
    {
      "cell_type": "code",
      "metadata": {
        "id": "swxfKQI1QTpU",
        "colab_type": "code",
        "colab": {
          "base_uri": "https://localhost:8080/",
          "height": 195
        },
        "outputId": "cd6064f7-514c-4ace-897e-43ff7f635ca8"
      },
      "source": [
        "file.head()"
      ],
      "execution_count": null,
      "outputs": [
        {
          "output_type": "execute_result",
          "data": {
            "text/html": [
              "<div>\n",
              "<style scoped>\n",
              "    .dataframe tbody tr th:only-of-type {\n",
              "        vertical-align: middle;\n",
              "    }\n",
              "\n",
              "    .dataframe tbody tr th {\n",
              "        vertical-align: top;\n",
              "    }\n",
              "\n",
              "    .dataframe thead th {\n",
              "        text-align: right;\n",
              "    }\n",
              "</style>\n",
              "<table border=\"1\" class=\"dataframe\">\n",
              "  <thead>\n",
              "    <tr style=\"text-align: right;\">\n",
              "      <th></th>\n",
              "      <th>id</th>\n",
              "      <th>label</th>\n",
              "    </tr>\n",
              "  </thead>\n",
              "  <tbody>\n",
              "    <tr>\n",
              "      <th>0</th>\n",
              "      <td>7921</td>\n",
              "      <td>1</td>\n",
              "    </tr>\n",
              "    <tr>\n",
              "      <th>1</th>\n",
              "      <td>7922</td>\n",
              "      <td>1</td>\n",
              "    </tr>\n",
              "    <tr>\n",
              "      <th>2</th>\n",
              "      <td>7923</td>\n",
              "      <td>1</td>\n",
              "    </tr>\n",
              "    <tr>\n",
              "      <th>3</th>\n",
              "      <td>7924</td>\n",
              "      <td>0</td>\n",
              "    </tr>\n",
              "    <tr>\n",
              "      <th>4</th>\n",
              "      <td>7925</td>\n",
              "      <td>1</td>\n",
              "    </tr>\n",
              "  </tbody>\n",
              "</table>\n",
              "</div>"
            ],
            "text/plain": [
              "     id  label\n",
              "0  7921      1\n",
              "1  7922      1\n",
              "2  7923      1\n",
              "3  7924      0\n",
              "4  7925      1"
            ]
          },
          "metadata": {
            "tags": []
          },
          "execution_count": 40
        }
      ]
    },
    {
      "cell_type": "code",
      "metadata": {
        "id": "sranTp2_R_5W",
        "colab_type": "code",
        "colab": {}
      },
      "source": [
        "file.to_csv('final_subm.csv',index=False,header=True)"
      ],
      "execution_count": null,
      "outputs": []
    },
    {
      "cell_type": "code",
      "metadata": {
        "id": "dDM9slNeSYr0",
        "colab_type": "code",
        "colab": {}
      },
      "source": [
        ""
      ],
      "execution_count": null,
      "outputs": []
    }
  ]
}